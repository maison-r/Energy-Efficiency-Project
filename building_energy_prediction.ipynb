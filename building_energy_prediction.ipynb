{
 "cells": [
  {
   "cell_type": "markdown",
   "id": "19040408-bdac-47c6-9d68-ddf8eb853dd2",
   "metadata": {},
   "source": [
    "# Building Energy Prediction"
   ]
  },
  {
   "cell_type": "markdown",
   "id": "d2b4ca36",
   "metadata": {},
   "source": [
    "# Project Objective\n",
    "\n",
    "The goal of this project is to build a machine learning model that predicts the **heating load** of residential buildings based on design attributes such as orientation, surface area, wall area, and glazing area. This is a supervised regression task using real-world building design data. The project also explores dimensionality reduction with PCA and regularization techniques like Ridge regression."
   ]
  },
  {
   "cell_type": "markdown",
   "id": "3adf1a68",
   "metadata": {},
   "source": [
    "# Data Overview\n",
    "\n",
    "The dataset contains 768 samples with 8 numerical input features (X1–X8) and a continuous target variable: heating load.\n",
    "\n",
    "Features include:\n",
    "- Relative compactness\n",
    "- Surface area\n",
    "- Wall area\n",
    "- Roof area\n",
    "- Overall height\n",
    "- Orientation\n",
    "- Glazing area\n",
    "- Glazing area distribution\n",
    "\n",
    "I will inspect the data for completeness, feature types, and distributions before modeling.\n"
   ]
  },
  {
   "cell_type": "code",
   "execution_count": null,
   "id": "39458ca0-2a66-4bc9-b3c4-817f60d501b1",
   "metadata": {},
   "outputs": [],
   "source": [
    "import pandas as pd \n",
    "import numpy as np\n",
    "import matplotlib.pyplot as plt\n",
    "from sklearn.model_selection import train_test_split\n",
    "from sklearn.linear_model import LinearRegression, Ridge \n",
    "from sklearn.metrics import mean_absolute_error, mean_squared_error, r2_score\n",
    "from sklearn.decomposition import PCA "
   ]
  },
  {
   "cell_type": "markdown",
   "id": "a57cc635-a6a7-4cc5-9dbd-6ffefae99cd8",
   "metadata": {},
   "source": [
    "# Exploratory Data Analysis (EDA)\n",
    "\n",
    "In this section, I visualize feature distributions, correlations, and relationships between input features and the heating load. This helps identify patterns, outliers, and potential feature importance before training.\n"
   ]
  },
  {
   "cell_type": "code",
   "execution_count": null,
   "id": "29829234",
   "metadata": {},
   "outputs": [
    {
     "name": "stdout",
     "output_type": "stream",
     "text": [
      "<class 'pandas.core.frame.DataFrame'>\n",
      "RangeIndex: 768 entries, 0 to 767\n",
      "Data columns (total 10 columns):\n",
      " #   Column  Non-Null Count  Dtype  \n",
      "---  ------  --------------  -----  \n",
      " 0   X1      768 non-null    float64\n",
      " 1   X2      768 non-null    float64\n",
      " 2   X3      768 non-null    float64\n",
      " 3   X4      768 non-null    float64\n",
      " 4   X5      768 non-null    float64\n",
      " 5   X6      768 non-null    int64  \n",
      " 6   X7      768 non-null    float64\n",
      " 7   X8      768 non-null    int64  \n",
      " 8   Y1      768 non-null    float64\n",
      " 9   Y2      768 non-null    float64\n",
      "dtypes: float64(8), int64(2)\n",
      "memory usage: 60.1 KB\n"
     ]
    },
    {
     "data": {
      "text/html": [
       "<div>\n",
       "<style scoped>\n",
       "    .dataframe tbody tr th:only-of-type {\n",
       "        vertical-align: middle;\n",
       "    }\n",
       "\n",
       "    .dataframe tbody tr th {\n",
       "        vertical-align: top;\n",
       "    }\n",
       "\n",
       "    .dataframe thead th {\n",
       "        text-align: right;\n",
       "    }\n",
       "</style>\n",
       "<table border=\"1\" class=\"dataframe\">\n",
       "  <thead>\n",
       "    <tr style=\"text-align: right;\">\n",
       "      <th></th>\n",
       "      <th>X1</th>\n",
       "      <th>X2</th>\n",
       "      <th>X3</th>\n",
       "      <th>X4</th>\n",
       "      <th>X5</th>\n",
       "      <th>X6</th>\n",
       "      <th>X7</th>\n",
       "      <th>X8</th>\n",
       "      <th>Y1</th>\n",
       "      <th>Y2</th>\n",
       "    </tr>\n",
       "  </thead>\n",
       "  <tbody>\n",
       "    <tr>\n",
       "      <th>763</th>\n",
       "      <td>0.64</td>\n",
       "      <td>784.0</td>\n",
       "      <td>343.0</td>\n",
       "      <td>220.5</td>\n",
       "      <td>3.5</td>\n",
       "      <td>5</td>\n",
       "      <td>0.4</td>\n",
       "      <td>5</td>\n",
       "      <td>17.88</td>\n",
       "      <td>21.40</td>\n",
       "    </tr>\n",
       "    <tr>\n",
       "      <th>764</th>\n",
       "      <td>0.62</td>\n",
       "      <td>808.5</td>\n",
       "      <td>367.5</td>\n",
       "      <td>220.5</td>\n",
       "      <td>3.5</td>\n",
       "      <td>2</td>\n",
       "      <td>0.4</td>\n",
       "      <td>5</td>\n",
       "      <td>16.54</td>\n",
       "      <td>16.88</td>\n",
       "    </tr>\n",
       "    <tr>\n",
       "      <th>765</th>\n",
       "      <td>0.62</td>\n",
       "      <td>808.5</td>\n",
       "      <td>367.5</td>\n",
       "      <td>220.5</td>\n",
       "      <td>3.5</td>\n",
       "      <td>3</td>\n",
       "      <td>0.4</td>\n",
       "      <td>5</td>\n",
       "      <td>16.44</td>\n",
       "      <td>17.11</td>\n",
       "    </tr>\n",
       "    <tr>\n",
       "      <th>766</th>\n",
       "      <td>0.62</td>\n",
       "      <td>808.5</td>\n",
       "      <td>367.5</td>\n",
       "      <td>220.5</td>\n",
       "      <td>3.5</td>\n",
       "      <td>4</td>\n",
       "      <td>0.4</td>\n",
       "      <td>5</td>\n",
       "      <td>16.48</td>\n",
       "      <td>16.61</td>\n",
       "    </tr>\n",
       "    <tr>\n",
       "      <th>767</th>\n",
       "      <td>0.62</td>\n",
       "      <td>808.5</td>\n",
       "      <td>367.5</td>\n",
       "      <td>220.5</td>\n",
       "      <td>3.5</td>\n",
       "      <td>5</td>\n",
       "      <td>0.4</td>\n",
       "      <td>5</td>\n",
       "      <td>16.64</td>\n",
       "      <td>16.03</td>\n",
       "    </tr>\n",
       "  </tbody>\n",
       "</table>\n",
       "</div>"
      ],
      "text/plain": [
       "       X1     X2     X3     X4   X5  X6   X7  X8     Y1     Y2\n",
       "763  0.64  784.0  343.0  220.5  3.5   5  0.4   5  17.88  21.40\n",
       "764  0.62  808.5  367.5  220.5  3.5   2  0.4   5  16.54  16.88\n",
       "765  0.62  808.5  367.5  220.5  3.5   3  0.4   5  16.44  17.11\n",
       "766  0.62  808.5  367.5  220.5  3.5   4  0.4   5  16.48  16.61\n",
       "767  0.62  808.5  367.5  220.5  3.5   5  0.4   5  16.64  16.03"
      ]
     },
     "execution_count": 12,
     "metadata": {},
     "output_type": "execute_result"
    }
   ],
   "source": [
    "energy_data = pd.read_csv('Energy_Efficiency_Data.csv')\n",
    "\n",
    "energy_data.shape\n",
    "energy_data.info()\n",
    "energy_data.head()\n",
    "energy_data.tail()\n"
   ]
  },
  {
   "cell_type": "code",
   "execution_count": null,
   "id": "dfbe507a",
   "metadata": {},
   "outputs": [
    {
     "data": {
      "text/html": [
       "<div>\n",
       "<style scoped>\n",
       "    .dataframe tbody tr th:only-of-type {\n",
       "        vertical-align: middle;\n",
       "    }\n",
       "\n",
       "    .dataframe tbody tr th {\n",
       "        vertical-align: top;\n",
       "    }\n",
       "\n",
       "    .dataframe thead th {\n",
       "        text-align: right;\n",
       "    }\n",
       "</style>\n",
       "<table border=\"1\" class=\"dataframe\">\n",
       "  <thead>\n",
       "    <tr style=\"text-align: right;\">\n",
       "      <th></th>\n",
       "      <th>X1</th>\n",
       "      <th>X2</th>\n",
       "      <th>X3</th>\n",
       "      <th>X4</th>\n",
       "      <th>X5</th>\n",
       "      <th>X6</th>\n",
       "      <th>X7</th>\n",
       "      <th>X8</th>\n",
       "      <th>Y1</th>\n",
       "      <th>Y2</th>\n",
       "    </tr>\n",
       "  </thead>\n",
       "  <tbody>\n",
       "    <tr>\n",
       "      <th>count</th>\n",
       "      <td>768.000000</td>\n",
       "      <td>768.000000</td>\n",
       "      <td>768.000000</td>\n",
       "      <td>768.000000</td>\n",
       "      <td>768.00000</td>\n",
       "      <td>768.000000</td>\n",
       "      <td>768.000000</td>\n",
       "      <td>768.00000</td>\n",
       "      <td>768.000000</td>\n",
       "      <td>768.000000</td>\n",
       "    </tr>\n",
       "    <tr>\n",
       "      <th>mean</th>\n",
       "      <td>0.764167</td>\n",
       "      <td>671.708333</td>\n",
       "      <td>318.500000</td>\n",
       "      <td>176.604167</td>\n",
       "      <td>5.25000</td>\n",
       "      <td>3.500000</td>\n",
       "      <td>0.234375</td>\n",
       "      <td>2.81250</td>\n",
       "      <td>22.307201</td>\n",
       "      <td>24.587760</td>\n",
       "    </tr>\n",
       "    <tr>\n",
       "      <th>std</th>\n",
       "      <td>0.105777</td>\n",
       "      <td>88.086116</td>\n",
       "      <td>43.626481</td>\n",
       "      <td>45.165950</td>\n",
       "      <td>1.75114</td>\n",
       "      <td>1.118763</td>\n",
       "      <td>0.133221</td>\n",
       "      <td>1.55096</td>\n",
       "      <td>10.090196</td>\n",
       "      <td>9.513306</td>\n",
       "    </tr>\n",
       "    <tr>\n",
       "      <th>min</th>\n",
       "      <td>0.620000</td>\n",
       "      <td>514.500000</td>\n",
       "      <td>245.000000</td>\n",
       "      <td>110.250000</td>\n",
       "      <td>3.50000</td>\n",
       "      <td>2.000000</td>\n",
       "      <td>0.000000</td>\n",
       "      <td>0.00000</td>\n",
       "      <td>6.010000</td>\n",
       "      <td>10.900000</td>\n",
       "    </tr>\n",
       "    <tr>\n",
       "      <th>25%</th>\n",
       "      <td>0.682500</td>\n",
       "      <td>606.375000</td>\n",
       "      <td>294.000000</td>\n",
       "      <td>140.875000</td>\n",
       "      <td>3.50000</td>\n",
       "      <td>2.750000</td>\n",
       "      <td>0.100000</td>\n",
       "      <td>1.75000</td>\n",
       "      <td>12.992500</td>\n",
       "      <td>15.620000</td>\n",
       "    </tr>\n",
       "    <tr>\n",
       "      <th>50%</th>\n",
       "      <td>0.750000</td>\n",
       "      <td>673.750000</td>\n",
       "      <td>318.500000</td>\n",
       "      <td>183.750000</td>\n",
       "      <td>5.25000</td>\n",
       "      <td>3.500000</td>\n",
       "      <td>0.250000</td>\n",
       "      <td>3.00000</td>\n",
       "      <td>18.950000</td>\n",
       "      <td>22.080000</td>\n",
       "    </tr>\n",
       "    <tr>\n",
       "      <th>75%</th>\n",
       "      <td>0.830000</td>\n",
       "      <td>741.125000</td>\n",
       "      <td>343.000000</td>\n",
       "      <td>220.500000</td>\n",
       "      <td>7.00000</td>\n",
       "      <td>4.250000</td>\n",
       "      <td>0.400000</td>\n",
       "      <td>4.00000</td>\n",
       "      <td>31.667500</td>\n",
       "      <td>33.132500</td>\n",
       "    </tr>\n",
       "    <tr>\n",
       "      <th>max</th>\n",
       "      <td>0.980000</td>\n",
       "      <td>808.500000</td>\n",
       "      <td>416.500000</td>\n",
       "      <td>220.500000</td>\n",
       "      <td>7.00000</td>\n",
       "      <td>5.000000</td>\n",
       "      <td>0.400000</td>\n",
       "      <td>5.00000</td>\n",
       "      <td>43.100000</td>\n",
       "      <td>48.030000</td>\n",
       "    </tr>\n",
       "  </tbody>\n",
       "</table>\n",
       "</div>"
      ],
      "text/plain": [
       "               X1          X2          X3          X4         X5          X6  \\\n",
       "count  768.000000  768.000000  768.000000  768.000000  768.00000  768.000000   \n",
       "mean     0.764167  671.708333  318.500000  176.604167    5.25000    3.500000   \n",
       "std      0.105777   88.086116   43.626481   45.165950    1.75114    1.118763   \n",
       "min      0.620000  514.500000  245.000000  110.250000    3.50000    2.000000   \n",
       "25%      0.682500  606.375000  294.000000  140.875000    3.50000    2.750000   \n",
       "50%      0.750000  673.750000  318.500000  183.750000    5.25000    3.500000   \n",
       "75%      0.830000  741.125000  343.000000  220.500000    7.00000    4.250000   \n",
       "max      0.980000  808.500000  416.500000  220.500000    7.00000    5.000000   \n",
       "\n",
       "               X7         X8          Y1          Y2  \n",
       "count  768.000000  768.00000  768.000000  768.000000  \n",
       "mean     0.234375    2.81250   22.307201   24.587760  \n",
       "std      0.133221    1.55096   10.090196    9.513306  \n",
       "min      0.000000    0.00000    6.010000   10.900000  \n",
       "25%      0.100000    1.75000   12.992500   15.620000  \n",
       "50%      0.250000    3.00000   18.950000   22.080000  \n",
       "75%      0.400000    4.00000   31.667500   33.132500  \n",
       "max      0.400000    5.00000   43.100000   48.030000  "
      ]
     },
     "execution_count": 13,
     "metadata": {},
     "output_type": "execute_result"
    }
   ],
   "source": [
    "energy_data.describe()"
   ]
  },
  {
   "cell_type": "code",
   "execution_count": null,
   "id": "e7881fb6",
   "metadata": {},
   "outputs": [
    {
     "data": {
      "text/plain": [
       "X1    0\n",
       "X2    0\n",
       "X3    0\n",
       "X4    0\n",
       "X5    0\n",
       "X6    0\n",
       "X7    0\n",
       "X8    0\n",
       "Y1    0\n",
       "Y2    0\n",
       "dtype: int64"
      ]
     },
     "execution_count": 14,
     "metadata": {},
     "output_type": "execute_result"
    }
   ],
   "source": [
    "energy_data.isnull().sum()"
   ]
  },
  {
   "cell_type": "markdown",
   "id": "16d0e525",
   "metadata": {},
   "source": [
    "# Data Preprocessing\n",
    "\n",
    "I split the dataset into training and test sets to evaluate model performance. I explore both random splits and group-based splits, examining how they impact generalization, especially across different building orientations.\n"
   ]
  },
  {
   "cell_type": "code",
   "execution_count": null,
   "id": "3a2e68e9-5ac0-4281-923f-41c734f0bb09",
   "metadata": {},
   "outputs": [
    {
     "name": "stdout",
     "output_type": "stream",
     "text": [
      "Random Split:\n",
      "Training samples: 537\n",
      "Testing samples: 231\n",
      "\n",
      "Group-based Split (holding out X8 values: [0, 1]):\n",
      "Training samples: 576\n",
      "Testing samples: 192\n"
     ]
    }
   ],
   "source": [
    "\n",
    "# random split oif 70% and 30%\n",
    "train_random, test_random = train_test_split(energy_data, test_size=0.3, random_state=42)\n",
    "print(f\"Random Split:\")\n",
    "print(f\"Training samples: {len(train_random)}\")\n",
    "print(f\"Testing samples: {len(test_random)}\\n\")\n",
    "\n",
    "# group based split \n",
    "unique_x8 = energy_data['X8'].unique()\n",
    "\n",
    "held_out_values = unique_x8[:2] # two uniqie values to hold out \n",
    "\n",
    "test_group = energy_data[energy_data['X8'].isin(held_out_values)] # create the test and train sets \n",
    "train_group = energy_data[~energy_data['X8'].isin(held_out_values)]\n",
    "\n",
    "print(f\"Group-based Split (holding out X8 values: {held_out_values.tolist()}):\")\n",
    "print(f\"Training samples: {len(train_group)}\")\n",
    "print(f\"Testing samples: {len(test_group)}\")\n"
   ]
  },
  {
   "cell_type": "code",
   "execution_count": null,
   "id": "bfb220e2-3557-4729-afa9-ddde9b803ad2",
   "metadata": {},
   "outputs": [
    {
     "data": {
      "image/png": "[encoded data removed]",
      "text/plain": [
       "<Figure size 800x500 with 1 Axes>"
      ]
     },
     "metadata": {},
     "output_type": "display_data"
    },
    {
     "data": {
      "image/png": "[encoded data removed]",
      "text/plain": [
       "<Figure size 800x500 with 1 Axes>"
      ]
     },
     "metadata": {},
     "output_type": "display_data"
    }
   ],
   "source": [
    "def plot_orientation_distribution(train_data, test_data, split_name):\n",
    "    orientation_labels = {2: \"East\", 3: \"South\", 4: \"West\", 5: \"North\"}\n",
    "    orientations = sorted(set(train_data['X6']).union(test_data['X6']))\n",
    "\n",
    "    # Count values\n",
    "    train_counts = train_data['X6'].value_counts().reindex(orientations, fill_value=0)\n",
    "    test_counts = test_data['X6'].value_counts().reindex(orientations, fill_value=0)\n",
    "\n",
    "    # Labels\n",
    "    x_labels = [orientation_labels.get(i, f\"X6={i}\") for i in orientations]\n",
    "    x = np.arange(len(x_labels))\n",
    "    width = 0.35\n",
    "\n",
    "    # Plot\n",
    "    fig, ax = plt.subplots(figsize=(8, 5))\n",
    "    ax.bar(x - width/2, train_counts.values, width, label='Train')\n",
    "    ax.bar(x + width/2, test_counts.values, width, label='Test')\n",
    "\n",
    "    ax.set_xticks(x)\n",
    "    ax.set_xticklabels(x_labels)\n",
    "    ax.set_xlabel(\"Orientation (X6)\")\n",
    "    ax.set_ylabel(\"Number of Buildings\")\n",
    "    ax.set_title(f\"Orientation Distribution - {split_name} Split\")\n",
    "    ax.legend()\n",
    "    plt.tight_layout()\n",
    "    plt.show()\n",
    "\n",
    "# Plot orientation distributions for both split strategies\n",
    "plot_orientation_distribution(train_random, test_random, \"Random\")\n",
    "plot_orientation_distribution(train_group, test_group, \"Group\")\n"
   ]
  },
  {
   "cell_type": "markdown",
   "id": "3fd2dea0-76a2-4bf8-8cbb-e683f9335998",
   "metadata": {},
   "source": [
    "# Model Training\n",
    "\n",
    "I train a Linear Regression model on the full feature set (X1–X8) to predict heating load. This provides a baseline to compare against PCA and Ridge regression.\n",
    "\n"
   ]
  },
  {
   "cell_type": "code",
   "execution_count": null,
   "id": "0c84ebd7-680e-4500-a042-a8ef9c5dd85c",
   "metadata": {},
   "outputs": [],
   "source": [
    "# Separate features and target\n",
    "features = [f\"X{i}\" for i in range(1, 9)]\n",
    "target = \"Y1\"  # Heating Load\n",
    "\n",
    "X_train = train_random[features]\n",
    "y_train = train_random[target]\n",
    "\n",
    "X_test = test_random[features]\n",
    "y_test = test_random[target]\n",
    "\n",
    "# Train the Linear Regression model\n",
    "lr_model = LinearRegression()\n",
    "lr_model.fit(X_train, y_train)\n",
    "\n",
    "# Predict on test set\n",
    "y_pred = lr_model.predict(X_test)\n",
    "\n"
   ]
  },
  {
   "cell_type": "markdown",
   "id": "0cda6a33",
   "metadata": {},
   "source": [
    "# Model Evaluation\n",
    "\n",
    "I use the following metrics to evaluate model performance:\n",
    "- **Mean Absolute Error (MAE)**: average absolute difference between predicted and actual values\n",
    "- **Root Mean Squared Error (RMSE)**: penalizes larger errors more heavily\n",
    "- **R² Score**: indicates how much of the variance in the target variable is explained by the model\n",
    "\n",
    "Lower error and higher R² are desirable.\n"
   ]
  },
  {
   "cell_type": "code",
   "execution_count": null,
   "id": "55641b47",
   "metadata": {},
   "outputs": [
    {
     "name": "stdout",
     "output_type": "stream",
     "text": [
      "Linear Regression Performance (Random Split):\n",
      "Mean Absolute Error (MAE): 2.15\n",
      "Root Mean Squared Error (RMSE): 2.97\n",
      "R² Score: 0.91\n"
     ]
    }
   ],
   "source": [
    "# Evaluation metrics\n",
    "mae = mean_absolute_error(y_test, y_pred)\n",
    "rmse = np.sqrt(mean_squared_error(y_test, y_pred))\n",
    "r2 = r2_score(y_test, y_pred)\n",
    "\n",
    "# Print the results\n",
    "print(\"Linear Regression Performance (Random Split):\")\n",
    "print(f\"Mean Absolute Error (MAE): {mae:.2f}\")\n",
    "print(f\"Root Mean Squared Error (RMSE): {rmse:.2f}\")\n",
    "print(f\"R² Score: {r2:.2f}\")"
   ]
  },
  {
   "cell_type": "markdown",
   "id": "9d4a5a7f-ef2b-487c-be9e-9a852e72b728",
   "metadata": {},
   "source": [
    "# Dimensionality Reduction (PCA)\n",
    "\n",
    "I apply Principal Component Analysis (PCA) to reduce the dimensionality of the dataset and remove potential multicollinearity. I evaluate how using fewer principal components affects model performance.\n"
   ]
  },
  {
   "cell_type": "code",
   "execution_count": null,
   "id": "36d2f1ad-6a07-4a6c-b66c-b94d2c70f8ae",
   "metadata": {},
   "outputs": [
    {
     "name": "stdout",
     "output_type": "stream",
     "text": [
      "PCA-based Linear Regression Performance (3 Components):\n",
      "Mean Absolute Error (MAE): 3.41\n",
      "Root Mean Squared Error (RMSE): 4.59\n",
      "R² Score: 0.79\n"
     ]
    }
   ],
   "source": [
    "# PCA to reduce dimensionality \n",
    "X = energy_data.iloc[:, 0:8]   # X1 to X8\n",
    "y = energy_data.iloc[:, 8]     # Y1 - Heating Load\n",
    "\n",
    "#Apply PCA\n",
    "pca = PCA(n_components=3)\n",
    "X_train_pca = pca.fit_transform(X_train)\n",
    "X_test_pca = pca.transform(X_test)\n",
    "\n",
    "# Train Linear Regression model on PCA-transformed data\n",
    "lr_pca = LinearRegression()\n",
    "lr_pca.fit(X_train_pca, y_train)\n",
    "\n",
    "# Predict and evaluate\n",
    "y_pred_pca = lr_pca.predict(X_test_pca)\n",
    "mae_pca = mean_absolute_error(y_test, y_pred_pca)\n",
    "rmse_pca = np.sqrt(mean_squared_error(y_test, y_pred_pca))\n",
    "r2_pca = r2_score(y_test, y_pred_pca)\n",
    "\n",
    "# Print performance\n",
    "print(\"PCA-based Linear Regression Performance (3 Components):\")\n",
    "print(f\"Mean Absolute Error (MAE): {mae_pca:.2f}\")\n",
    "print(f\"Root Mean Squared Error (RMSE): {rmse_pca:.2f}\")\n",
    "print(f\"R² Score: {r2_pca:.2f}\")\n"
   ]
  },
  {
   "cell_type": "markdown",
   "id": "b2c45f4f-1aba-400e-8689-89205971ba3b",
   "metadata": {},
   "source": [
    "# Regularization (Ridge Regression)\n",
    "\n",
    "I apply Ridge regression using the PCA-transformed features to examine whether regularization improves performance or model stability, particularly when working with correlated or reduced features.\n"
   ]
  },
  {
   "cell_type": "code",
   "execution_count": null,
   "id": "f0c4f1d9-5aa8-4d94-ba81-e09f49b45261",
   "metadata": {},
   "outputs": [
    {
     "name": "stdout",
     "output_type": "stream",
     "text": [
      "Ridge Regression (with PCA Features):\n",
      "Mean Absolute Error (MAE): 3.41\n",
      "Root Mean Squared Error (RMSE): 4.59\n",
      "R² Score: 0.79\n"
     ]
    }
   ],
   "source": [
    "ridge = Ridge(alpha=1.0)  \n",
    "ridge.fit(X_train_pca, y_train)\n",
    "\n",
    "# Predict on test set\n",
    "y_pred_ridge = ridge.predict(X_test_pca)\n",
    "\n",
    "# Evaluate performance\n",
    "mae_ridge = mean_absolute_error(y_test, y_pred_ridge)\n",
    "rmse_ridge = np.sqrt(mean_squared_error(y_test, y_pred_ridge))\n",
    "r2_ridge = r2_score(y_test, y_pred_ridge)\n",
    "\n",
    "# Print results\n",
    "print(\"Ridge Regression (with PCA Features):\")\n",
    "print(f\"Mean Absolute Error (MAE): {mae_ridge:.2f}\")\n",
    "print(f\"Root Mean Squared Error (RMSE): {rmse_ridge:.2f}\")\n",
    "print(f\"R² Score: {r2_ridge:.2f}\")\n"
   ]
  },
  {
   "cell_type": "markdown",
   "id": "612868d3",
   "metadata": {},
   "source": [
    "# Conclusion\n",
    "\n",
    "This project explored the prediction of building heating loads using various regression techniques and dimensionality reduction. Several key insights emerged from both the modeling process and the evaluation of different data handling strategies:\n",
    "\n",
    "# Model Evaluation and Data Splitting\n",
    "The choice of train-test splitting method significantly impacts model evaluation and generalization to new building designs.\n",
    "\n",
    "- Random splits provide a good estimate of general performance when new data resembles the training set, but carry a higher risk of data leakage, especially if similar designs appear in both sets.\n",
    "\n",
    "- Group-based splits (e.g., by building design categories) offer a more robust assessment of the model’s ability to generalize to entirely new designs, reducing the risk of leakage. This is especially important when deploying models in real-world scenarios where new building features may not have been seen during training.\n",
    "\n",
    "# Feature Distribution and Model Bias\n",
    "Examining the distribution of the orientation feature in the train and test sets revealed:\n",
    "\n",
    "- Random splits maintain a balanced representation of orientations.\n",
    "\n",
    "- Group splits can lead to unbalanced or missing orientations in the test set, particularly if certain categories are underrepresented or filtered out (e.g., by X8).\n",
    "\n",
    "This imbalance can bias the model, causing poor generalization on underrepresented orientations. Since building orientation affects sunlight exposure—and thus heating and cooling loads—it is crucial for the model to learn from all possible orientations to ensure accurate and reliable predictions.\n",
    "\n",
    "# Regression Metrics and Model Performance\n",
    "For evaluating model performance, I used:\n",
    "\n",
    "- Mean Absolute Error (MAE): Measures average prediction error.\n",
    "\n",
    "- Root Mean Squared Error (RMSE): Penalizes larger errors more heavily.\n",
    "\n",
    "- R² Score: Indicates how much variance in the target is explained by the model.\n",
    "\n",
    "The linear regression model achieved a low MAE (2.15) and RMSE (2.97), with an R² of 0.91, suggesting strong predictive power and minimal large errors. The close values of MAE and RMSE indicate a uniform error distribution without significant outliers.\n",
    "\n",
    "# Dimensionality Reduction with PCA\n",
    "Applying Principal Component Analysis (PCA) to reduce feature dimensionality did not improve model performance; in fact, it increased error rates.\n",
    "\n",
    "Pros of PCA: Reduces model complexity, training time, and risk of overfitting; helps eliminate multicollinearity.\n",
    "\n",
    "Cons of PCA: Can discard important predictive information, is unsupervised (ignores target variable), and can reduce model interpretability.\n",
    "\n",
    "# Regularization with Ridge Regression\n",
    "Introducing Ridge regularization to the PCA-reduced features did not enhance performance or stability compared to standard linear regression. This suggests the data was already well-conditioned, and overfitting was not a significant issue. However, in cases with correlated or limited features, regularization can help by penalizing large coefficients and enhancing model robustness.\n"
   ]
  }
 ],
 "metadata": {
  "kernelspec": {
   "display_name": "Python 3",
   "language": "python",
   "name": "python3"
  },
  "language_info": {
   "codemirror_mode": {
    "name": "ipython",
    "version": 3
   },
   "file_extension": ".py",
   "mimetype": "text/x-python",
   "name": "python",
   "nbconvert_exporter": "python",
   "pygments_lexer": "ipython3",
   "version": "3.12.2"
  }
 },
 "nbformat": 4,
 "nbformat_minor": 5
}
